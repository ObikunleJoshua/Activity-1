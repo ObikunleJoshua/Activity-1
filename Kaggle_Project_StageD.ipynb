{
  "nbformat": 4,
  "nbformat_minor": 0,
  "metadata": {
    "colab": {
      "provenance": [],
      "authorship_tag": "ABX9TyPBfrawXF+HgRyCDLBMkieb",
      "include_colab_link": true
    },
    "kernelspec": {
      "name": "python3",
      "display_name": "Python 3"
    },
    "language_info": {
      "name": "python"
    }
  },
  "cells": [
    {
      "cell_type": "markdown",
      "metadata": {
        "id": "view-in-github",
        "colab_type": "text"
      },
      "source": [
        "<a href=\"https://colab.research.google.com/github/ObikunleJoshua/Activity-1/blob/main/Kaggle_Project_StageD.ipynb\" target=\"_parent\"><img src=\"https://colab.research.google.com/assets/colab-badge.svg\" alt=\"Open In Colab\"/></a>"
      ]
    },
    {
      "cell_type": "markdown",
      "source": [
        "**KAGGLE PROJECT**\n",
        "\n",
        "Build artificial intelligence algorithms to label satellite image chips with different atmospheric conditions and the different classes of land cover/land use.\n",
        "\n",
        "1. Sign up for a Kaggle account: https://www.kaggle.com/\n",
        "2. Open the Kaggle Amazon Deforestation Competition page: https://www.kaggle.com/c/planet-understanding-the-amazon-from-space/overview\n",
        "3. Enter the competition, read all the instructions, download the data and start with a baseline.\n",
        "4. Submit your solution to Kaggle (as late submission)"
      ],
      "metadata": {
        "id": "HzoDRL3IiqGG"
      }
    },
    {
      "cell_type": "code",
      "source": [
        "!pip install tensorflow-addons"
      ],
      "metadata": {
        "colab": {
          "base_uri": "https://localhost:8080/"
        },
        "id": "rkPVRuoUm2XX",
        "outputId": "0dd0c9e0-bfc3-4f8b-e53c-d3ccc92c1223"
      },
      "execution_count": 6,
      "outputs": [
        {
          "output_type": "stream",
          "name": "stdout",
          "text": [
            "Looking in indexes: https://pypi.org/simple, https://us-python.pkg.dev/colab-wheels/public/simple/\n",
            "Collecting tensorflow-addons\n",
            "  Downloading tensorflow_addons-0.17.1-cp37-cp37m-manylinux_2_17_x86_64.manylinux2014_x86_64.whl (1.1 MB)\n",
            "\u001b[K     |████████████████████████████████| 1.1 MB 7.8 MB/s \n",
            "\u001b[?25hRequirement already satisfied: typeguard>=2.7 in /usr/local/lib/python3.7/dist-packages (from tensorflow-addons) (2.7.1)\n",
            "Requirement already satisfied: packaging in /usr/local/lib/python3.7/dist-packages (from tensorflow-addons) (21.3)\n",
            "Requirement already satisfied: pyparsing!=3.0.5,>=2.0.2 in /usr/local/lib/python3.7/dist-packages (from packaging->tensorflow-addons) (3.0.9)\n",
            "Installing collected packages: tensorflow-addons\n",
            "Successfully installed tensorflow-addons-0.17.1\n"
          ]
        }
      ]
    },
    {
      "cell_type": "code",
      "source": [
        "import numpy as np \n",
        "import pandas as pd\n",
        "import matplotlib.pyplot as plt\n",
        "import seaborn as sns\n",
        "\n",
        "from tensorflow.keras.models import Sequential\n",
        "from tensorflow.keras.layers import Dense, Dropout, Flatten, BatchNormalization\n",
        "from tensorflow.keras.layers import Conv2D, MaxPooling2D\n",
        "import tensorflow_addons as tfa\n",
        "from tensorflow_addons.metrics import FBetaScore \n",
        "\n",
        "import tqdm.notebook as tq\n",
        "import os\n",
        "import logging\n",
        "import warnings\n",
        "warnings.filterwarnings('ignore')\n",
        "logging.getLogger(\"tensorflow\").setLevel(logging.ERROR)"
      ],
      "metadata": {
        "id": "5WX3x6mjjNYE"
      },
      "execution_count": 7,
      "outputs": []
    },
    {
      "cell_type": "code",
      "source": [
        "from google.colab import drive\n",
        "drive.mount('/content/gdrive/')"
      ],
      "metadata": {
        "colab": {
          "base_uri": "https://localhost:8080/"
        },
        "id": "a_3LFVUIkZXC",
        "outputId": "3f5487b2-0c85-4431-c6ae-8b470ad97119"
      },
      "execution_count": 8,
      "outputs": [
        {
          "output_type": "stream",
          "name": "stdout",
          "text": [
            "Drive already mounted at /content/gdrive/; to attempt to forcibly remount, call drive.mount(\"/content/gdrive/\", force_remount=True).\n"
          ]
        }
      ]
    },
    {
      "cell_type": "code",
      "source": [
        "PROJECT_FOLDER = '/content/gdrive/MyDrive/stageDproject'\n",
        "DATA_PATH = os.path.join(PROJECT_FOLDER, \"data\")\n",
        "TRAIN_JPG_DIR = os.path.join(DATA_PATH, \"train-jpg\")\n",
        "TRAIN_CSV_PATH = os.path.join(DATA_PATH, \"train_v2.csv\")"
      ],
      "metadata": {
        "id": "RgavF3Dmkc5k"
      },
      "execution_count": 9,
      "outputs": []
    },
    {
      "cell_type": "code",
      "source": [
        "df = pd.read_csv(TRAIN_CSV_PATH)\n",
        "df.head(5)"
      ],
      "metadata": {
        "colab": {
          "base_uri": "https://localhost:8080/",
          "height": 206
        },
        "id": "6nDhANOnjtvb",
        "outputId": "0829c1e5-eab8-4f9a-96f5-43130baccc91"
      },
      "execution_count": 11,
      "outputs": [
        {
          "output_type": "execute_result",
          "data": {
            "text/plain": [
              "  image_name                                       tags\n",
              "0    train_0                               haze primary\n",
              "1    train_1            agriculture clear primary water\n",
              "2    train_2                              clear primary\n",
              "3    train_3                              clear primary\n",
              "4    train_4  agriculture clear habitation primary road"
            ],
            "text/html": [
              "\n",
              "  <div id=\"df-ba060eda-e320-456d-bd77-4dbbf9763851\">\n",
              "    <div class=\"colab-df-container\">\n",
              "      <div>\n",
              "<style scoped>\n",
              "    .dataframe tbody tr th:only-of-type {\n",
              "        vertical-align: middle;\n",
              "    }\n",
              "\n",
              "    .dataframe tbody tr th {\n",
              "        vertical-align: top;\n",
              "    }\n",
              "\n",
              "    .dataframe thead th {\n",
              "        text-align: right;\n",
              "    }\n",
              "</style>\n",
              "<table border=\"1\" class=\"dataframe\">\n",
              "  <thead>\n",
              "    <tr style=\"text-align: right;\">\n",
              "      <th></th>\n",
              "      <th>image_name</th>\n",
              "      <th>tags</th>\n",
              "    </tr>\n",
              "  </thead>\n",
              "  <tbody>\n",
              "    <tr>\n",
              "      <th>0</th>\n",
              "      <td>train_0</td>\n",
              "      <td>haze primary</td>\n",
              "    </tr>\n",
              "    <tr>\n",
              "      <th>1</th>\n",
              "      <td>train_1</td>\n",
              "      <td>agriculture clear primary water</td>\n",
              "    </tr>\n",
              "    <tr>\n",
              "      <th>2</th>\n",
              "      <td>train_2</td>\n",
              "      <td>clear primary</td>\n",
              "    </tr>\n",
              "    <tr>\n",
              "      <th>3</th>\n",
              "      <td>train_3</td>\n",
              "      <td>clear primary</td>\n",
              "    </tr>\n",
              "    <tr>\n",
              "      <th>4</th>\n",
              "      <td>train_4</td>\n",
              "      <td>agriculture clear habitation primary road</td>\n",
              "    </tr>\n",
              "  </tbody>\n",
              "</table>\n",
              "</div>\n",
              "      <button class=\"colab-df-convert\" onclick=\"convertToInteractive('df-ba060eda-e320-456d-bd77-4dbbf9763851')\"\n",
              "              title=\"Convert this dataframe to an interactive table.\"\n",
              "              style=\"display:none;\">\n",
              "        \n",
              "  <svg xmlns=\"http://www.w3.org/2000/svg\" height=\"24px\"viewBox=\"0 0 24 24\"\n",
              "       width=\"24px\">\n",
              "    <path d=\"M0 0h24v24H0V0z\" fill=\"none\"/>\n",
              "    <path d=\"M18.56 5.44l.94 2.06.94-2.06 2.06-.94-2.06-.94-.94-2.06-.94 2.06-2.06.94zm-11 1L8.5 8.5l.94-2.06 2.06-.94-2.06-.94L8.5 2.5l-.94 2.06-2.06.94zm10 10l.94 2.06.94-2.06 2.06-.94-2.06-.94-.94-2.06-.94 2.06-2.06.94z\"/><path d=\"M17.41 7.96l-1.37-1.37c-.4-.4-.92-.59-1.43-.59-.52 0-1.04.2-1.43.59L10.3 9.45l-7.72 7.72c-.78.78-.78 2.05 0 2.83L4 21.41c.39.39.9.59 1.41.59.51 0 1.02-.2 1.41-.59l7.78-7.78 2.81-2.81c.8-.78.8-2.07 0-2.86zM5.41 20L4 18.59l7.72-7.72 1.47 1.35L5.41 20z\"/>\n",
              "  </svg>\n",
              "      </button>\n",
              "      \n",
              "  <style>\n",
              "    .colab-df-container {\n",
              "      display:flex;\n",
              "      flex-wrap:wrap;\n",
              "      gap: 12px;\n",
              "    }\n",
              "\n",
              "    .colab-df-convert {\n",
              "      background-color: #E8F0FE;\n",
              "      border: none;\n",
              "      border-radius: 50%;\n",
              "      cursor: pointer;\n",
              "      display: none;\n",
              "      fill: #1967D2;\n",
              "      height: 32px;\n",
              "      padding: 0 0 0 0;\n",
              "      width: 32px;\n",
              "    }\n",
              "\n",
              "    .colab-df-convert:hover {\n",
              "      background-color: #E2EBFA;\n",
              "      box-shadow: 0px 1px 2px rgba(60, 64, 67, 0.3), 0px 1px 3px 1px rgba(60, 64, 67, 0.15);\n",
              "      fill: #174EA6;\n",
              "    }\n",
              "\n",
              "    [theme=dark] .colab-df-convert {\n",
              "      background-color: #3B4455;\n",
              "      fill: #D2E3FC;\n",
              "    }\n",
              "\n",
              "    [theme=dark] .colab-df-convert:hover {\n",
              "      background-color: #434B5C;\n",
              "      box-shadow: 0px 1px 3px 1px rgba(0, 0, 0, 0.15);\n",
              "      filter: drop-shadow(0px 1px 2px rgba(0, 0, 0, 0.3));\n",
              "      fill: #FFFFFF;\n",
              "    }\n",
              "  </style>\n",
              "\n",
              "      <script>\n",
              "        const buttonEl =\n",
              "          document.querySelector('#df-ba060eda-e320-456d-bd77-4dbbf9763851 button.colab-df-convert');\n",
              "        buttonEl.style.display =\n",
              "          google.colab.kernel.accessAllowed ? 'block' : 'none';\n",
              "\n",
              "        async function convertToInteractive(key) {\n",
              "          const element = document.querySelector('#df-ba060eda-e320-456d-bd77-4dbbf9763851');\n",
              "          const dataTable =\n",
              "            await google.colab.kernel.invokeFunction('convertToInteractive',\n",
              "                                                     [key], {});\n",
              "          if (!dataTable) return;\n",
              "\n",
              "          const docLinkHtml = 'Like what you see? Visit the ' +\n",
              "            '<a target=\"_blank\" href=https://colab.research.google.com/notebooks/data_table.ipynb>data table notebook</a>'\n",
              "            + ' to learn more about interactive tables.';\n",
              "          element.innerHTML = '';\n",
              "          dataTable['output_type'] = 'display_data';\n",
              "          await google.colab.output.renderOutput(dataTable, element);\n",
              "          const docLink = document.createElement('div');\n",
              "          docLink.innerHTML = docLinkHtml;\n",
              "          element.appendChild(docLink);\n",
              "        }\n",
              "      </script>\n",
              "    </div>\n",
              "  </div>\n",
              "  "
            ]
          },
          "metadata": {},
          "execution_count": 11
        }
      ]
    },
    {
      "cell_type": "code",
      "source": [
        "dummies = df['tags'].str.get_dummies(' ')\n",
        "df = pd.concat([df, dummies], axis=1)\n",
        "\n",
        "labels = dummies.columns.values\n",
        "N_LABELS = len(labels)\n",
        "dummies"
      ],
      "metadata": {
        "colab": {
          "base_uri": "https://localhost:8080/",
          "height": 488
        },
        "id": "tKl0h9LFo6e-",
        "outputId": "d0c2890f-2a5f-428d-b40d-d61caa59eb97"
      },
      "execution_count": 14,
      "outputs": [
        {
          "output_type": "execute_result",
          "data": {
            "text/plain": [
              "       agriculture  artisinal_mine  bare_ground  blooming  blow_down  clear  \\\n",
              "0                0               0            0         0          0      0   \n",
              "1                1               0            0         0          0      1   \n",
              "2                0               0            0         0          0      1   \n",
              "3                0               0            0         0          0      1   \n",
              "4                1               0            0         0          0      1   \n",
              "...            ...             ...          ...       ...        ...    ...   \n",
              "40474            0               0            0         0          0      1   \n",
              "40475            0               0            0         0          0      0   \n",
              "40476            1               0            0         0          0      1   \n",
              "40477            1               0            0         0          0      1   \n",
              "40478            1               0            0         0          0      0   \n",
              "\n",
              "       cloudy  conventional_mine  cultivation  habitation  haze  \\\n",
              "0           0                  0            0           0     1   \n",
              "1           0                  0            0           0     0   \n",
              "2           0                  0            0           0     0   \n",
              "3           0                  0            0           0     0   \n",
              "4           0                  0            0           1     0   \n",
              "...       ...                ...          ...         ...   ...   \n",
              "40474       0                  0            0           0     0   \n",
              "40475       1                  0            0           0     0   \n",
              "40476       0                  0            0           0     0   \n",
              "40477       0                  0            0           0     0   \n",
              "40478       0                  0            1           0     0   \n",
              "\n",
              "       partly_cloudy  primary  road  selective_logging  slash_burn  water  \n",
              "0                  0        1     0                  0           0      0  \n",
              "1                  0        1     0                  0           0      1  \n",
              "2                  0        1     0                  0           0      0  \n",
              "3                  0        1     0                  0           0      0  \n",
              "4                  0        1     1                  0           0      0  \n",
              "...              ...      ...   ...                ...         ...    ...  \n",
              "40474              0        1     0                  0           0      0  \n",
              "40475              0        0     0                  0           0      0  \n",
              "40476              0        1     0                  0           0      0  \n",
              "40477              0        1     1                  0           0      0  \n",
              "40478              1        1     0                  0           0      0  \n",
              "\n",
              "[40479 rows x 17 columns]"
            ],
            "text/html": [
              "\n",
              "  <div id=\"df-0d86a699-76fb-4e5b-af0f-d4b6b7b45e65\">\n",
              "    <div class=\"colab-df-container\">\n",
              "      <div>\n",
              "<style scoped>\n",
              "    .dataframe tbody tr th:only-of-type {\n",
              "        vertical-align: middle;\n",
              "    }\n",
              "\n",
              "    .dataframe tbody tr th {\n",
              "        vertical-align: top;\n",
              "    }\n",
              "\n",
              "    .dataframe thead th {\n",
              "        text-align: right;\n",
              "    }\n",
              "</style>\n",
              "<table border=\"1\" class=\"dataframe\">\n",
              "  <thead>\n",
              "    <tr style=\"text-align: right;\">\n",
              "      <th></th>\n",
              "      <th>agriculture</th>\n",
              "      <th>artisinal_mine</th>\n",
              "      <th>bare_ground</th>\n",
              "      <th>blooming</th>\n",
              "      <th>blow_down</th>\n",
              "      <th>clear</th>\n",
              "      <th>cloudy</th>\n",
              "      <th>conventional_mine</th>\n",
              "      <th>cultivation</th>\n",
              "      <th>habitation</th>\n",
              "      <th>haze</th>\n",
              "      <th>partly_cloudy</th>\n",
              "      <th>primary</th>\n",
              "      <th>road</th>\n",
              "      <th>selective_logging</th>\n",
              "      <th>slash_burn</th>\n",
              "      <th>water</th>\n",
              "    </tr>\n",
              "  </thead>\n",
              "  <tbody>\n",
              "    <tr>\n",
              "      <th>0</th>\n",
              "      <td>0</td>\n",
              "      <td>0</td>\n",
              "      <td>0</td>\n",
              "      <td>0</td>\n",
              "      <td>0</td>\n",
              "      <td>0</td>\n",
              "      <td>0</td>\n",
              "      <td>0</td>\n",
              "      <td>0</td>\n",
              "      <td>0</td>\n",
              "      <td>1</td>\n",
              "      <td>0</td>\n",
              "      <td>1</td>\n",
              "      <td>0</td>\n",
              "      <td>0</td>\n",
              "      <td>0</td>\n",
              "      <td>0</td>\n",
              "    </tr>\n",
              "    <tr>\n",
              "      <th>1</th>\n",
              "      <td>1</td>\n",
              "      <td>0</td>\n",
              "      <td>0</td>\n",
              "      <td>0</td>\n",
              "      <td>0</td>\n",
              "      <td>1</td>\n",
              "      <td>0</td>\n",
              "      <td>0</td>\n",
              "      <td>0</td>\n",
              "      <td>0</td>\n",
              "      <td>0</td>\n",
              "      <td>0</td>\n",
              "      <td>1</td>\n",
              "      <td>0</td>\n",
              "      <td>0</td>\n",
              "      <td>0</td>\n",
              "      <td>1</td>\n",
              "    </tr>\n",
              "    <tr>\n",
              "      <th>2</th>\n",
              "      <td>0</td>\n",
              "      <td>0</td>\n",
              "      <td>0</td>\n",
              "      <td>0</td>\n",
              "      <td>0</td>\n",
              "      <td>1</td>\n",
              "      <td>0</td>\n",
              "      <td>0</td>\n",
              "      <td>0</td>\n",
              "      <td>0</td>\n",
              "      <td>0</td>\n",
              "      <td>0</td>\n",
              "      <td>1</td>\n",
              "      <td>0</td>\n",
              "      <td>0</td>\n",
              "      <td>0</td>\n",
              "      <td>0</td>\n",
              "    </tr>\n",
              "    <tr>\n",
              "      <th>3</th>\n",
              "      <td>0</td>\n",
              "      <td>0</td>\n",
              "      <td>0</td>\n",
              "      <td>0</td>\n",
              "      <td>0</td>\n",
              "      <td>1</td>\n",
              "      <td>0</td>\n",
              "      <td>0</td>\n",
              "      <td>0</td>\n",
              "      <td>0</td>\n",
              "      <td>0</td>\n",
              "      <td>0</td>\n",
              "      <td>1</td>\n",
              "      <td>0</td>\n",
              "      <td>0</td>\n",
              "      <td>0</td>\n",
              "      <td>0</td>\n",
              "    </tr>\n",
              "    <tr>\n",
              "      <th>4</th>\n",
              "      <td>1</td>\n",
              "      <td>0</td>\n",
              "      <td>0</td>\n",
              "      <td>0</td>\n",
              "      <td>0</td>\n",
              "      <td>1</td>\n",
              "      <td>0</td>\n",
              "      <td>0</td>\n",
              "      <td>0</td>\n",
              "      <td>1</td>\n",
              "      <td>0</td>\n",
              "      <td>0</td>\n",
              "      <td>1</td>\n",
              "      <td>1</td>\n",
              "      <td>0</td>\n",
              "      <td>0</td>\n",
              "      <td>0</td>\n",
              "    </tr>\n",
              "    <tr>\n",
              "      <th>...</th>\n",
              "      <td>...</td>\n",
              "      <td>...</td>\n",
              "      <td>...</td>\n",
              "      <td>...</td>\n",
              "      <td>...</td>\n",
              "      <td>...</td>\n",
              "      <td>...</td>\n",
              "      <td>...</td>\n",
              "      <td>...</td>\n",
              "      <td>...</td>\n",
              "      <td>...</td>\n",
              "      <td>...</td>\n",
              "      <td>...</td>\n",
              "      <td>...</td>\n",
              "      <td>...</td>\n",
              "      <td>...</td>\n",
              "      <td>...</td>\n",
              "    </tr>\n",
              "    <tr>\n",
              "      <th>40474</th>\n",
              "      <td>0</td>\n",
              "      <td>0</td>\n",
              "      <td>0</td>\n",
              "      <td>0</td>\n",
              "      <td>0</td>\n",
              "      <td>1</td>\n",
              "      <td>0</td>\n",
              "      <td>0</td>\n",
              "      <td>0</td>\n",
              "      <td>0</td>\n",
              "      <td>0</td>\n",
              "      <td>0</td>\n",
              "      <td>1</td>\n",
              "      <td>0</td>\n",
              "      <td>0</td>\n",
              "      <td>0</td>\n",
              "      <td>0</td>\n",
              "    </tr>\n",
              "    <tr>\n",
              "      <th>40475</th>\n",
              "      <td>0</td>\n",
              "      <td>0</td>\n",
              "      <td>0</td>\n",
              "      <td>0</td>\n",
              "      <td>0</td>\n",
              "      <td>0</td>\n",
              "      <td>1</td>\n",
              "      <td>0</td>\n",
              "      <td>0</td>\n",
              "      <td>0</td>\n",
              "      <td>0</td>\n",
              "      <td>0</td>\n",
              "      <td>0</td>\n",
              "      <td>0</td>\n",
              "      <td>0</td>\n",
              "      <td>0</td>\n",
              "      <td>0</td>\n",
              "    </tr>\n",
              "    <tr>\n",
              "      <th>40476</th>\n",
              "      <td>1</td>\n",
              "      <td>0</td>\n",
              "      <td>0</td>\n",
              "      <td>0</td>\n",
              "      <td>0</td>\n",
              "      <td>1</td>\n",
              "      <td>0</td>\n",
              "      <td>0</td>\n",
              "      <td>0</td>\n",
              "      <td>0</td>\n",
              "      <td>0</td>\n",
              "      <td>0</td>\n",
              "      <td>1</td>\n",
              "      <td>0</td>\n",
              "      <td>0</td>\n",
              "      <td>0</td>\n",
              "      <td>0</td>\n",
              "    </tr>\n",
              "    <tr>\n",
              "      <th>40477</th>\n",
              "      <td>1</td>\n",
              "      <td>0</td>\n",
              "      <td>0</td>\n",
              "      <td>0</td>\n",
              "      <td>0</td>\n",
              "      <td>1</td>\n",
              "      <td>0</td>\n",
              "      <td>0</td>\n",
              "      <td>0</td>\n",
              "      <td>0</td>\n",
              "      <td>0</td>\n",
              "      <td>0</td>\n",
              "      <td>1</td>\n",
              "      <td>1</td>\n",
              "      <td>0</td>\n",
              "      <td>0</td>\n",
              "      <td>0</td>\n",
              "    </tr>\n",
              "    <tr>\n",
              "      <th>40478</th>\n",
              "      <td>1</td>\n",
              "      <td>0</td>\n",
              "      <td>0</td>\n",
              "      <td>0</td>\n",
              "      <td>0</td>\n",
              "      <td>0</td>\n",
              "      <td>0</td>\n",
              "      <td>0</td>\n",
              "      <td>1</td>\n",
              "      <td>0</td>\n",
              "      <td>0</td>\n",
              "      <td>1</td>\n",
              "      <td>1</td>\n",
              "      <td>0</td>\n",
              "      <td>0</td>\n",
              "      <td>0</td>\n",
              "      <td>0</td>\n",
              "    </tr>\n",
              "  </tbody>\n",
              "</table>\n",
              "<p>40479 rows × 17 columns</p>\n",
              "</div>\n",
              "      <button class=\"colab-df-convert\" onclick=\"convertToInteractive('df-0d86a699-76fb-4e5b-af0f-d4b6b7b45e65')\"\n",
              "              title=\"Convert this dataframe to an interactive table.\"\n",
              "              style=\"display:none;\">\n",
              "        \n",
              "  <svg xmlns=\"http://www.w3.org/2000/svg\" height=\"24px\"viewBox=\"0 0 24 24\"\n",
              "       width=\"24px\">\n",
              "    <path d=\"M0 0h24v24H0V0z\" fill=\"none\"/>\n",
              "    <path d=\"M18.56 5.44l.94 2.06.94-2.06 2.06-.94-2.06-.94-.94-2.06-.94 2.06-2.06.94zm-11 1L8.5 8.5l.94-2.06 2.06-.94-2.06-.94L8.5 2.5l-.94 2.06-2.06.94zm10 10l.94 2.06.94-2.06 2.06-.94-2.06-.94-.94-2.06-.94 2.06-2.06.94z\"/><path d=\"M17.41 7.96l-1.37-1.37c-.4-.4-.92-.59-1.43-.59-.52 0-1.04.2-1.43.59L10.3 9.45l-7.72 7.72c-.78.78-.78 2.05 0 2.83L4 21.41c.39.39.9.59 1.41.59.51 0 1.02-.2 1.41-.59l7.78-7.78 2.81-2.81c.8-.78.8-2.07 0-2.86zM5.41 20L4 18.59l7.72-7.72 1.47 1.35L5.41 20z\"/>\n",
              "  </svg>\n",
              "      </button>\n",
              "      \n",
              "  <style>\n",
              "    .colab-df-container {\n",
              "      display:flex;\n",
              "      flex-wrap:wrap;\n",
              "      gap: 12px;\n",
              "    }\n",
              "\n",
              "    .colab-df-convert {\n",
              "      background-color: #E8F0FE;\n",
              "      border: none;\n",
              "      border-radius: 50%;\n",
              "      cursor: pointer;\n",
              "      display: none;\n",
              "      fill: #1967D2;\n",
              "      height: 32px;\n",
              "      padding: 0 0 0 0;\n",
              "      width: 32px;\n",
              "    }\n",
              "\n",
              "    .colab-df-convert:hover {\n",
              "      background-color: #E2EBFA;\n",
              "      box-shadow: 0px 1px 2px rgba(60, 64, 67, 0.3), 0px 1px 3px 1px rgba(60, 64, 67, 0.15);\n",
              "      fill: #174EA6;\n",
              "    }\n",
              "\n",
              "    [theme=dark] .colab-df-convert {\n",
              "      background-color: #3B4455;\n",
              "      fill: #D2E3FC;\n",
              "    }\n",
              "\n",
              "    [theme=dark] .colab-df-convert:hover {\n",
              "      background-color: #434B5C;\n",
              "      box-shadow: 0px 1px 3px 1px rgba(0, 0, 0, 0.15);\n",
              "      filter: drop-shadow(0px 1px 2px rgba(0, 0, 0, 0.3));\n",
              "      fill: #FFFFFF;\n",
              "    }\n",
              "  </style>\n",
              "\n",
              "      <script>\n",
              "        const buttonEl =\n",
              "          document.querySelector('#df-0d86a699-76fb-4e5b-af0f-d4b6b7b45e65 button.colab-df-convert');\n",
              "        buttonEl.style.display =\n",
              "          google.colab.kernel.accessAllowed ? 'block' : 'none';\n",
              "\n",
              "        async function convertToInteractive(key) {\n",
              "          const element = document.querySelector('#df-0d86a699-76fb-4e5b-af0f-d4b6b7b45e65');\n",
              "          const dataTable =\n",
              "            await google.colab.kernel.invokeFunction('convertToInteractive',\n",
              "                                                     [key], {});\n",
              "          if (!dataTable) return;\n",
              "\n",
              "          const docLinkHtml = 'Like what you see? Visit the ' +\n",
              "            '<a target=\"_blank\" href=https://colab.research.google.com/notebooks/data_table.ipynb>data table notebook</a>'\n",
              "            + ' to learn more about interactive tables.';\n",
              "          element.innerHTML = '';\n",
              "          dataTable['output_type'] = 'display_data';\n",
              "          await google.colab.output.renderOutput(dataTable, element);\n",
              "          const docLink = document.createElement('div');\n",
              "          docLink.innerHTML = docLinkHtml;\n",
              "          element.appendChild(docLink);\n",
              "        }\n",
              "      </script>\n",
              "    </div>\n",
              "  </div>\n",
              "  "
            ]
          },
          "metadata": {},
          "execution_count": 14
        }
      ]
    },
    {
      "cell_type": "code",
      "source": [],
      "metadata": {
        "id": "2mVTRg39o8F2"
      },
      "execution_count": 14,
      "outputs": []
    },
    {
      "cell_type": "markdown",
      "source": [
        "**Split dataset**\n",
        "\n",
        "*   The datatset is divided into 80% train and 20% validation. We also split the train into 4 folds, which later will be store in 4 TFRecords shards.\n",
        "\n",
        "*   MultilabelStratifiedKFold is used to maintain the ratio of label across each shard."
      ],
      "metadata": {
        "id": "eHStljALobiM"
      }
    },
    {
      "cell_type": "code",
      "source": [
        "!pip install iterative_stratification -q\n",
        "from iterstrat.ml_stratifiers import MultilabelStratifiedKFold"
      ],
      "metadata": {
        "id": "1OjIiJWQnPlg"
      },
      "execution_count": 12,
      "outputs": []
    },
    {
      "cell_type": "code",
      "source": [
        "y = df[labels].values\n",
        "X = df['image_name'].values\n",
        "\n",
        "df['fold'] = np.nan\n",
        "\n",
        "mskf = MultilabelStratifiedKFold(n_splits=5, random_state=104)\n",
        "for i, (_, test_index) in enumerate(mskf.split(X, y)):\n",
        "    df.iloc[test_index, -1] = i\n",
        "   \n",
        "df['fold'] = df['fold'].astype('int')\n",
        "df['is_valid'] = False\n",
        "df['is_valid'][df['fold'] == 0] = True"
      ],
      "metadata": {
        "id": "iKXQSU1-oqJe"
      },
      "execution_count": null,
      "outputs": []
    },
    {
      "cell_type": "markdown",
      "source": [
        "Export raw data to TFRecords"
      ],
      "metadata": {
        "id": "yoEal639pgGP"
      }
    },
    {
      "cell_type": "code",
      "source": [
        "## Converting the values into features\n",
        "def _image_feature(value):\n",
        "    \"\"\"Returns a bytes_list from a string / byte.\"\"\"\n",
        "    return tf.train.Feature(bytes_list=tf.train.BytesList(value=[tf.io.encode_jpeg(value).numpy()]))\n",
        "\n",
        "def _int64_feature(value):\n",
        "    if type(value) != list:\n",
        "        value = [value]\n",
        "    return tf.train.Feature(int64_list=tf.train.Int64List(value=value))\n",
        "\n",
        "def _bytes_feature(value):\n",
        "    \"\"\"Returns a bytes_list from a string / byte.\"\"\"\n",
        "    if isinstance(value, type(tf.constant(0))): # if value ist tensor\n",
        "        value = value.numpy()\n",
        "    return tf.train.Feature(bytes_list=tf.train.BytesList(value=[value]))\n",
        "\n",
        "def serialize_array(array):\n",
        "    array = tf.io.serialize_tensor(array)\n",
        "    return array\n",
        "\n",
        "def image_feature(path, label):\n",
        "    image = plt.imread(path)\n",
        "\n",
        "    # image = tf.io.decode_jpeg(image, channels=3)\n",
        "    feature = {'height': _int64_feature(image.shape[0]),\n",
        "               'width': _int64_feature(image.shape[1]),\n",
        "               'channel': _int64_feature(image.shape[2]),\n",
        "               'image': _bytes_feature(serialize_array(image)),\n",
        "               'label': _int64_feature(label),}\n",
        "    return tf.train.Example(features=tf.train.Features(feature=feature))\n",
        "\n",
        "def create_record(df, folder_path, record_name):\n",
        "    all_image_paths = df['image_name'].apply(lambda x: os.path.join(TRAIN_JPG_DIR, x+'.jpg')).values\n",
        "    all_labels = df[labels].values\n",
        "\n",
        "    record_path = os.path.join(folder_path, f\"{record_name}.tfrecords\")\n",
        "    writer = tf.io.TFRecordWriter(record_path) \n",
        "\n",
        "    for i in tq.tqdm(range(df.shape[0])):\n",
        "        path = all_image_paths[i]\n",
        "        label = all_labels[i].tolist()\n",
        "        example = image_feature(path, label)\n",
        "        writer.write(example.SerializeToString())\n",
        "    \n",
        "    writer.close()"
      ],
      "metadata": {
        "id": "GAb5nSScotX2"
      },
      "execution_count": 21,
      "outputs": []
    },
    {
      "cell_type": "markdown",
      "source": [
        "Load Data from TFRecord"
      ],
      "metadata": {
        "id": "OVwhhqcVpoMp"
      }
    },
    {
      "cell_type": "code",
      "source": [
        "RECORDS = df.io.gfile.glob(str(DATA_PATH + '/*.tfrecords'))\n",
        "RECORDS"
      ],
      "metadata": {
        "id": "aiq7q4MqpqqZ"
      },
      "execution_count": null,
      "outputs": []
    },
    {
      "cell_type": "markdown",
      "source": [
        "**Build model**\n",
        "\n",
        "Instead of building and training a new model from scratch, we will use a pre-trained model in a process called transfer learning. In this case, we use the MobileNetv2 model."
      ],
      "metadata": {
        "id": "Gm8GeiqgqMKA"
      }
    },
    {
      "cell_type": "code",
      "source": [
        "def build_model(trainable = False, fine_tune_at = 0):\n",
        "    \"\"\"Build a Sequential model with the MobileNetv2 as base model and additional top layers.\n",
        "       Certain number of layers of the MobileNetv2 can be trained.\n",
        "       args:\n",
        "           trainable: boolean, whether transfer learning model can be trained or not.\n",
        "           fine_tune_at: int, number of trainable layers.\n",
        "    \n",
        "    \"\"\"\n",
        "    mobile_net = tf.keras.applications.MobileNetV2(input_shape=(IMG_WIDTH, IMG_HEIGHT, CHANNELS), include_top=False)\n",
        "    if trainable == True:\n",
        "        mobile_net.trainable=True\n",
        "\n",
        "        for layer in mobile_net.layers[:fine_tune_at]:\n",
        "            layer.trainable = False\n",
        "    else: \n",
        "        mobile_net.trainable = False\n",
        "    \n",
        "\n",
        "    input = tf.keras.Input(shape=(IMG_WIDTH, IMG_HEIGHT, CHANNELS), name='input')\n",
        "    x = tf.keras.applications.mobilenet.preprocess_input(input)\n",
        "    x = mobile_net(x)\n",
        "    x = tf.keras.layers.Dense(1024, activation = 'relu')(x)\n",
        "    x = tf.keras.layers.GlobalAveragePooling2D()(x)\n",
        "    output = tf.keras.layers.Dense(N_LABELS, activation = 'sigmoid')(x)\n",
        "\n",
        "    model = tf.keras.Model(input, output)\n",
        "    return model"
      ],
      "metadata": {
        "id": "E3FP_R4Vpsxn"
      },
      "execution_count": 18,
      "outputs": []
    },
    {
      "cell_type": "code",
      "source": [
        "model = build_model()\n",
        "model.summary()"
      ],
      "metadata": {
        "id": "WeMdhQDOqIJf"
      },
      "execution_count": null,
      "outputs": []
    },
    {
      "cell_type": "code",
      "source": [
        "for batch in train_ds: \n",
        "    print(model.predict(batch[0]))\n",
        "    break"
      ],
      "metadata": {
        "id": "T-R-CwEwqTsY"
      },
      "execution_count": null,
      "outputs": []
    },
    {
      "cell_type": "markdown",
      "source": [
        "**Train**\n",
        "\n",
        "Using Checkpoint, LearningRateDecay, and CSVLogger to assist the training."
      ],
      "metadata": {
        "id": "xhcjI9vLsO_N"
      }
    },
    {
      "cell_type": "code",
      "source": [
        "from datetime import datetime\n",
        "today = str(datetime.now().date())\n",
        "try:\n",
        "    os.mkdir(os.path.join(PROJECT_FOLDER, 'log', today))\n",
        "except:\n",
        "    print('Folder exists.')"
      ],
      "metadata": {
        "id": "QRBT4BeWqWlE"
      },
      "execution_count": 23,
      "outputs": []
    },
    {
      "cell_type": "code",
      "source": [
        "# Setting up CheckPoint \n",
        "checkpoint_path = os.path.join(PROJECT_FOLDER, 'log', today, f\"full_1_decay.h5\")\n",
        "checkpoint_dir = os.path.dirname(checkpoint_path)\n",
        "\n",
        "# Create a callback that saves the model's weights by default it saves the weights every epoch\n",
        "cp_callback = tf.keras.callbacks.ModelCheckpoint(filepath=checkpoint_path,\n",
        "                                                 save_best_only = True,\n",
        "                                                 save_weights_only=True,\n",
        "                                                 mornitor = \"val_loss\",\n",
        "                                                 verbose=1)\n",
        "\n",
        "# Learning rate decay\n",
        "lr_decay = tf.keras.callbacks.ReduceLROnPlateau(monitor='val_loss', \n",
        "                                                factor=0.2, \n",
        "                                                patience=3, \n",
        "                                                verbose=1, \n",
        "                                                mode='auto', \n",
        "                                                epsilon=0.0001, \n",
        "                                                cooldown=0, \n",
        "                                                min_lr=0.0000001)\n",
        "\n",
        "# Logger\n",
        "log_path = os.path.join(PROJECT_FOLDER, 'log', today, f\"full_1_decay.csv\")\n",
        "logger = tf.keras.callbacks.CSVLogger(log_path, separator=',', append=True)"
      ],
      "metadata": {
        "id": "S638Xfd5sTZf"
      },
      "execution_count": 23,
      "outputs": []
    },
    {
      "cell_type": "code",
      "source": [
        "LR = 1e-5\n",
        "EPOCHS = 60\n",
        "num_steps_train = tf.math.ceil(float(TRAIN_SIZE)/BATCH_SIZE)              \n",
        "num_steps_val = tf.math.ceil(float(VAL_SIZE)/BATCH_SIZE)\n",
        "\n",
        "fbeta = FBetaScore(num_classes=N_LABELS,\n",
        "                   average='weighted',\n",
        "                   beta=2.0,\n",
        "                   threshold=0.2,\n",
        "                   name='fbeta')"
      ],
      "metadata": {
        "id": "y6WfCSNrsThK"
      },
      "execution_count": 23,
      "outputs": []
    },
    {
      "cell_type": "code",
      "source": [
        "# Compile model with optimizer\n",
        "model.compile(optimizer = tf.keras.optimizers.Adam(learning_rate = LR),\n",
        "               loss = 'binary_crossentropy',\n",
        "               metrics = [fbeta, tf.keras.metrics.AUC()])"
      ],
      "metadata": {
        "id": "Q1KJMR7-sTic"
      },
      "execution_count": 23,
      "outputs": []
    },
    {
      "cell_type": "code",
      "source": [
        "# Train model\n",
        "history = model.fit(train_ds,\n",
        "                  steps_per_epoch = num_steps_train,\n",
        "                  epochs = EPOCHS,\n",
        "                  validation_data = val_ds,\n",
        "                  validation_steps = num_steps_val,\n",
        "                  callbacks=[cp_callback, lr_decay, logger])"
      ],
      "metadata": {
        "id": "40r1jeEUsTj6"
      },
      "execution_count": 23,
      "outputs": []
    },
    {
      "cell_type": "code",
      "source": [
        "def plot_stats(training_stats, val_stats, x_label='Training Steps', stats='loss'):\n",
        "    stats, x_label = stats.title(), x_label.title()\n",
        "    legend_loc = 'upper right' if stats=='loss' else 'lower right'\n",
        "    training_steps = len(training_stats)\n",
        "    test_steps = len(val_stats)\n",
        "\n",
        "    plt.figure()\n",
        "    plt.ylabel(stats)\n",
        "    plt.xlabel(x_label)\n",
        "    plt.plot(training_stats, label='Training ' + stats)\n",
        "    plt.plot(np.linspace(0, training_steps, test_steps), val_stats, label='Validation ' + stats)\n",
        "    plt.ylim([0,max(plt.ylim())])\n",
        "    plt.legend(loc=legend_loc)\n",
        "    plt.show()"
      ],
      "metadata": {
        "id": "1kxFeUFdsTlV"
      },
      "execution_count": 23,
      "outputs": []
    },
    {
      "cell_type": "code",
      "source": [
        "plt.figure(figsize = (15, 10))\n",
        "\n",
        "plot_stats(history.history['loss'], history.history['val_loss'], x_label='Epochs', stats='loss')\n",
        "plot_stats(history.history['fbeta'], history.history['val_fbeta'], x_label='Epochs', stats='fbeta');"
      ],
      "metadata": {
        "id": "JHj2YFozsTm2"
      },
      "execution_count": 23,
      "outputs": []
    },
    {
      "cell_type": "markdown",
      "source": [
        "**Export Model**"
      ],
      "metadata": {
        "id": "xxnqTnmnsrR6"
      }
    },
    {
      "cell_type": "code",
      "source": [
        "SAVE_PATH = os.path.join(PROJECT_FOLDER, 'log', today, '1_full_decay.h5')\n",
        "model.save(SAVE_PATH)\n"
      ],
      "metadata": {
        "id": "n9wlHKQ5sToK"
      },
      "execution_count": 23,
      "outputs": []
    },
    {
      "cell_type": "markdown",
      "source": [
        "**Predict**"
      ],
      "metadata": {
        "id": "MmatsqO5sy-q"
      }
    },
    {
      "cell_type": "code",
      "source": [
        "def read_tfrecord_label_only(example):\n",
        "    tfrecord_format = {\n",
        "        \"height\": tf.io.FixedLenFeature([], tf.int64),\n",
        "        \"width\": tf.io.FixedLenFeature([], tf.int64),\n",
        "        \"channel\": tf.io.FixedLenFeature([], tf.int64),\n",
        "        \"image\": tf.io.FixedLenFeature([], tf.string),\n",
        "        \"label\": tf.io.FixedLenFeature([17], tf.int64, default_value=np.zeros((17,)).astype('int').tolist())\n",
        "    }\n",
        "    example = tf.io.parse_single_example(example, tfrecord_format)\n",
        "\n",
        "    # Extract information\n",
        "    height = example['height']\n",
        "    width = example['width']\n",
        "    channel = example['channel']\n",
        "    image = example['image']\n",
        "    label = example['label']\n",
        "\n",
        "    return label"
      ],
      "metadata": {
        "id": "7GVgzfNEsTp0"
      },
      "execution_count": 23,
      "outputs": []
    },
    {
      "cell_type": "code",
      "source": [
        "train_label_ds = tf.data.TFRecordDataset(RECORDS[:4])\n",
        "train_label_ds = train_label_ds.map(read_tfrecord_label_only, num_parallel_calls=AUTOTUNE)"
      ],
      "metadata": {
        "id": "cq-fFlcQsTrQ"
      },
      "execution_count": 23,
      "outputs": []
    },
    {
      "cell_type": "code",
      "source": [
        "true = list(train_label_ds.as_numpy_iterator())\n",
        "true = np.array(true)\n",
        "true.shape"
      ],
      "metadata": {
        "id": "ozUvHPQ6sTsx"
      },
      "execution_count": 23,
      "outputs": []
    },
    {
      "cell_type": "code",
      "source": [
        "train_image_ds = load_dataset(RECORDS[:4], shuffle=False, augment=False)"
      ],
      "metadata": {
        "id": "OK5zFjwrsTuH"
      },
      "execution_count": 23,
      "outputs": []
    },
    {
      "cell_type": "code",
      "source": [
        "predictions = model.predict(train_image_ds)\n",
        "final_predictions = (predictions > 0.2).astype('int')\n",
        "final_predictions.shape"
      ],
      "metadata": {
        "id": "bh4Cs1sdsTvl"
      },
      "execution_count": 23,
      "outputs": []
    },
    {
      "cell_type": "code",
      "source": [
        "from sklearn.metrics import fbeta_score\n",
        "fbeta_score(true, final_predictions, average='weighted', beta=2)"
      ],
      "metadata": {
        "id": "h9BVYg24sTxQ"
      },
      "execution_count": 23,
      "outputs": []
    },
    {
      "cell_type": "code",
      "source": [
        "from sklearn.metrics import classification_report\n",
        "print(classification_report(true, final_predictions))"
      ],
      "metadata": {
        "id": "izm7J4EksTy1"
      },
      "execution_count": 23,
      "outputs": []
    },
    {
      "cell_type": "code",
      "source": [
        "from sklearn.metrics import classification_report\n",
        "print(classification_report(true, final_predictions))\n",
        "for data in train_image_ds.take(1):\n",
        "    sample_images = data[0].numpy().astype('int')\n",
        "    sample_labels = data[1].numpy().astype('bool')\n",
        "\n",
        "sample_images = sample_images[:40]\n",
        "sample_labels = sample_labels[:40]\n",
        "sample_predictions = final_predictions[:40]"
      ],
      "metadata": {
        "id": "Quw-T4oisT0F"
      },
      "execution_count": 23,
      "outputs": []
    },
    {
      "cell_type": "code",
      "source": [
        "ample_predictions = final_predictions[:40]\n",
        "fig, axes = plt.subplots(10, 4, figsize=(20, 30))\n",
        "axes = axes.ravel()\n",
        "\n",
        "for i, (image, label) in enumerate(zip(sample_images, sample_labels)):\n",
        "    axes[i].imshow(image)\n",
        "    predict_label = labels[sample_predictions[i] == 1]\n",
        "    predict_label = ', '.join(predict_label)\n",
        "    correct = ', '.join(labels[label])\n",
        "    axes[i].set_title(f\"PREDICT: {predict_label} \\nCORRECT: {correct}\")\n",
        "\n",
        "plt.subplots_adjust(wspace=1, hspace=1)\n",
        "plt.show()"
      ],
      "metadata": {
        "id": "u0TfCCn8sT1t"
      },
      "execution_count": 23,
      "outputs": []
    },
    {
      "cell_type": "markdown",
      "source": [
        "**PREDICT ON TEST**"
      ],
      "metadata": {
        "id": "pxncmev-tO9U"
      }
    },
    {
      "cell_type": "code",
      "source": [],
      "metadata": {
        "id": "Alv3czKbsT2-"
      },
      "execution_count": 23,
      "outputs": []
    },
    {
      "cell_type": "code",
      "source": [],
      "metadata": {
        "id": "6e9iZGOOsT4h"
      },
      "execution_count": 23,
      "outputs": []
    },
    {
      "cell_type": "code",
      "source": [],
      "metadata": {
        "id": "hhV2p6ItsT54"
      },
      "execution_count": 23,
      "outputs": []
    },
    {
      "cell_type": "code",
      "source": [],
      "metadata": {
        "id": "ulUB9zaGsT7V"
      },
      "execution_count": 23,
      "outputs": []
    },
    {
      "cell_type": "code",
      "source": [],
      "metadata": {
        "id": "VcB-6eFxsT8s"
      },
      "execution_count": 23,
      "outputs": []
    },
    {
      "cell_type": "code",
      "source": [],
      "metadata": {
        "id": "qm_QXjDrsT-Q"
      },
      "execution_count": 23,
      "outputs": []
    },
    {
      "cell_type": "code",
      "source": [],
      "metadata": {
        "id": "YttdFcAzsT_n"
      },
      "execution_count": 23,
      "outputs": []
    },
    {
      "cell_type": "code",
      "source": [],
      "metadata": {
        "id": "wWNTiJhbsUBN"
      },
      "execution_count": 23,
      "outputs": []
    },
    {
      "cell_type": "code",
      "source": [],
      "metadata": {
        "id": "ogd2P7J5sUCk"
      },
      "execution_count": 23,
      "outputs": []
    },
    {
      "cell_type": "code",
      "source": [],
      "metadata": {
        "id": "_KgeXAZ6sUEE"
      },
      "execution_count": 23,
      "outputs": []
    },
    {
      "cell_type": "code",
      "source": [],
      "metadata": {
        "id": "3hJHNUlusUFr"
      },
      "execution_count": 23,
      "outputs": []
    },
    {
      "cell_type": "code",
      "source": [],
      "metadata": {
        "id": "RUopc_WhsUHa"
      },
      "execution_count": 23,
      "outputs": []
    },
    {
      "cell_type": "code",
      "source": [],
      "metadata": {
        "id": "7MnD5LH_sUJM"
      },
      "execution_count": null,
      "outputs": []
    }
  ]
}